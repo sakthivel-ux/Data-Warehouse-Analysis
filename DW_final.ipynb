{
  "nbformat": 4,
  "nbformat_minor": 0,
  "metadata": {
    "colab": {
      "name": "DW final.ipynb",
      "provenance": [],
      "collapsed_sections": []
    },
    "kernelspec": {
      "name": "python3",
      "display_name": "Python 3"
    },
    "language_info": {
      "name": "python"
    }
  },
  "cells": [
    {
      "cell_type": "code",
      "execution_count": null,
      "metadata": {
        "colab": {
          "base_uri": "https://localhost:8080/"
        },
        "id": "9JKpG0Am9FQ0",
        "outputId": "cc7e38a9-bd96-4eb6-ecf4-6a713730e318"
      },
      "outputs": [
        {
          "output_type": "stream",
          "name": "stdout",
          "text": [
            "Mounted at /content/gdrive\n"
          ]
        }
      ],
      "source": [
        "from google.colab import drive\n",
        "drive.mount('/content/gdrive')\n"
      ]
    },
    {
      "cell_type": "code",
      "source": [
        "!pwd"
      ],
      "metadata": {
        "colab": {
          "base_uri": "https://localhost:8080/"
        },
        "id": "1DYdNeyh9o8K",
        "outputId": "37e0c93c-bb68-40a4-f419-004bfb119715"
      },
      "execution_count": null,
      "outputs": [
        {
          "output_type": "stream",
          "name": "stdout",
          "text": [
            "/content\n"
          ]
        }
      ]
    },
    {
      "cell_type": "code",
      "source": [
        "!ls"
      ],
      "metadata": {
        "colab": {
          "base_uri": "https://localhost:8080/"
        },
        "id": "x5t1HQC_-d91",
        "outputId": "4c082e71-4465-47fb-9c85-120424b9e79a"
      },
      "execution_count": null,
      "outputs": [
        {
          "output_type": "stream",
          "name": "stdout",
          "text": [
            "gdrive\tsample_data\n"
          ]
        }
      ]
    },
    {
      "cell_type": "code",
      "source": [
        "#packages"
      ],
      "metadata": {
        "id": "_pDv0yxclgyX"
      },
      "execution_count": null,
      "outputs": []
    },
    {
      "cell_type": "code",
      "source": [
        "import numpy as np\n",
        "import pandas as pd\n",
        "import matplotlib.pyplot as plt\n",
        "import seaborn as sns\n",
        "import math\n",
        "import random\n",
        "import seaborn as sns\n",
        "from sklearn import tree\n",
        "from pprint import pprint"
      ],
      "metadata": {
        "id": "7OeGUUGf-tgE"
      },
      "execution_count": null,
      "outputs": []
    },
    {
      "cell_type": "code",
      "source": [
        "import os\n",
        "os.chdir('/content/gdrive/MyDrive/xxxxx')"
      ],
      "metadata": {
        "id": "rldWsndh96hH"
      },
      "execution_count": null,
      "outputs": []
    },
    {
      "cell_type": "code",
      "source": [
        "!ls\n"
      ],
      "metadata": {
        "colab": {
          "base_uri": "https://localhost:8080/"
        },
        "id": "86UiJhk1A7DS",
        "outputId": "74ee49bc-9363-4dd1-c959-f89f44e8fcfc"
      },
      "execution_count": null,
      "outputs": [
        {
          "output_type": "stream",
          "name": "stdout",
          "text": [
            "'DecisionTree Classifier.ipynb'  'DW ASSIGNMENT FINAL.csv'\n"
          ]
        }
      ]
    },
    {
      "cell_type": "code",
      "source": [
        "#importing datasets"
      ],
      "metadata": {
        "id": "Yk85mys-lnfE"
      },
      "execution_count": null,
      "outputs": []
    },
    {
      "cell_type": "code",
      "source": [
        "df = pd.read_csv(\"DW ASSIGNMENT FINAL.csv\")"
      ],
      "metadata": {
        "id": "OSp3sKzwA9ww"
      },
      "execution_count": null,
      "outputs": []
    },
    {
      "cell_type": "code",
      "source": [
        "df.head()"
      ],
      "metadata": {
        "colab": {
          "base_uri": "https://localhost:8080/",
          "height": 206
        },
        "id": "07AAZIk-BEjO",
        "outputId": "754bb0b3-32bb-40e9-f870-288e40a6cadf"
      },
      "execution_count": null,
      "outputs": [
        {
          "output_type": "execute_result",
          "data": {
            "text/html": [
              "\n",
              "  <div id=\"df-0f4e6fa4-b673-4574-a2af-e5477a16d66f\">\n",
              "    <div class=\"colab-df-container\">\n",
              "      <div>\n",
              "<style scoped>\n",
              "    .dataframe tbody tr th:only-of-type {\n",
              "        vertical-align: middle;\n",
              "    }\n",
              "\n",
              "    .dataframe tbody tr th {\n",
              "        vertical-align: top;\n",
              "    }\n",
              "\n",
              "    .dataframe thead th {\n",
              "        text-align: right;\n",
              "    }\n",
              "</style>\n",
              "<table border=\"1\" class=\"dataframe\">\n",
              "  <thead>\n",
              "    <tr style=\"text-align: right;\">\n",
              "      <th></th>\n",
              "      <th>SI NO</th>\n",
              "      <th>REGISTER NO</th>\n",
              "      <th>NAME</th>\n",
              "      <th>eng_math</th>\n",
              "      <th>dsa 1</th>\n",
              "      <th>dsa 2</th>\n",
              "      <th>dbms</th>\n",
              "      <th>CA</th>\n",
              "      <th>OS</th>\n",
              "      <th>SE</th>\n",
              "      <th>DD</th>\n",
              "      <th>OOPS</th>\n",
              "      <th>CN</th>\n",
              "      <th>CATEGORY</th>\n",
              "      <th>VALUE</th>\n",
              "    </tr>\n",
              "  </thead>\n",
              "  <tbody>\n",
              "    <tr>\n",
              "      <th>0</th>\n",
              "      <td>1</td>\n",
              "      <td>1907001</td>\n",
              "      <td>ABINANDAN.V</td>\n",
              "      <td>O</td>\n",
              "      <td>A</td>\n",
              "      <td>A+</td>\n",
              "      <td>A+</td>\n",
              "      <td>A+</td>\n",
              "      <td>A+</td>\n",
              "      <td>O</td>\n",
              "      <td>O</td>\n",
              "      <td>O</td>\n",
              "      <td>O</td>\n",
              "      <td>DREAM</td>\n",
              "      <td>88</td>\n",
              "    </tr>\n",
              "    <tr>\n",
              "      <th>1</th>\n",
              "      <td>2</td>\n",
              "      <td>1907002</td>\n",
              "      <td>AKASH LOUIS.H</td>\n",
              "      <td>A+</td>\n",
              "      <td>B+</td>\n",
              "      <td>A</td>\n",
              "      <td>B+</td>\n",
              "      <td>A</td>\n",
              "      <td>A</td>\n",
              "      <td>A+</td>\n",
              "      <td>A+</td>\n",
              "      <td>O</td>\n",
              "      <td>A+</td>\n",
              "      <td>NON CORE</td>\n",
              "      <td>68</td>\n",
              "    </tr>\n",
              "    <tr>\n",
              "      <th>2</th>\n",
              "      <td>3</td>\n",
              "      <td>1907003</td>\n",
              "      <td>ARAVIND GOKUL.A</td>\n",
              "      <td>A</td>\n",
              "      <td>B+</td>\n",
              "      <td>A</td>\n",
              "      <td>A</td>\n",
              "      <td>B+</td>\n",
              "      <td>B+</td>\n",
              "      <td>A+</td>\n",
              "      <td>A</td>\n",
              "      <td>A</td>\n",
              "      <td>A</td>\n",
              "      <td>NON CORE</td>\n",
              "      <td>56</td>\n",
              "    </tr>\n",
              "    <tr>\n",
              "      <th>3</th>\n",
              "      <td>4</td>\n",
              "      <td>1907004</td>\n",
              "      <td>CHAKRABAANI.H</td>\n",
              "      <td>O</td>\n",
              "      <td>A</td>\n",
              "      <td>A</td>\n",
              "      <td>A+</td>\n",
              "      <td>A+</td>\n",
              "      <td>A+</td>\n",
              "      <td>O</td>\n",
              "      <td>A+</td>\n",
              "      <td>O</td>\n",
              "      <td>A+</td>\n",
              "      <td>DREAM</td>\n",
              "      <td>82</td>\n",
              "    </tr>\n",
              "    <tr>\n",
              "      <th>4</th>\n",
              "      <td>5</td>\n",
              "      <td>1907005</td>\n",
              "      <td>CLIFFORD LEBO.J</td>\n",
              "      <td>A+</td>\n",
              "      <td>A</td>\n",
              "      <td>A+</td>\n",
              "      <td>A+</td>\n",
              "      <td>A+</td>\n",
              "      <td>A</td>\n",
              "      <td>A+</td>\n",
              "      <td>O</td>\n",
              "      <td>O</td>\n",
              "      <td>O</td>\n",
              "      <td>DREAM</td>\n",
              "      <td>82</td>\n",
              "    </tr>\n",
              "  </tbody>\n",
              "</table>\n",
              "</div>\n",
              "      <button class=\"colab-df-convert\" onclick=\"convertToInteractive('df-0f4e6fa4-b673-4574-a2af-e5477a16d66f')\"\n",
              "              title=\"Convert this dataframe to an interactive table.\"\n",
              "              style=\"display:none;\">\n",
              "        \n",
              "  <svg xmlns=\"http://www.w3.org/2000/svg\" height=\"24px\"viewBox=\"0 0 24 24\"\n",
              "       width=\"24px\">\n",
              "    <path d=\"M0 0h24v24H0V0z\" fill=\"none\"/>\n",
              "    <path d=\"M18.56 5.44l.94 2.06.94-2.06 2.06-.94-2.06-.94-.94-2.06-.94 2.06-2.06.94zm-11 1L8.5 8.5l.94-2.06 2.06-.94-2.06-.94L8.5 2.5l-.94 2.06-2.06.94zm10 10l.94 2.06.94-2.06 2.06-.94-2.06-.94-.94-2.06-.94 2.06-2.06.94z\"/><path d=\"M17.41 7.96l-1.37-1.37c-.4-.4-.92-.59-1.43-.59-.52 0-1.04.2-1.43.59L10.3 9.45l-7.72 7.72c-.78.78-.78 2.05 0 2.83L4 21.41c.39.39.9.59 1.41.59.51 0 1.02-.2 1.41-.59l7.78-7.78 2.81-2.81c.8-.78.8-2.07 0-2.86zM5.41 20L4 18.59l7.72-7.72 1.47 1.35L5.41 20z\"/>\n",
              "  </svg>\n",
              "      </button>\n",
              "      \n",
              "  <style>\n",
              "    .colab-df-container {\n",
              "      display:flex;\n",
              "      flex-wrap:wrap;\n",
              "      gap: 12px;\n",
              "    }\n",
              "\n",
              "    .colab-df-convert {\n",
              "      background-color: #E8F0FE;\n",
              "      border: none;\n",
              "      border-radius: 50%;\n",
              "      cursor: pointer;\n",
              "      display: none;\n",
              "      fill: #1967D2;\n",
              "      height: 32px;\n",
              "      padding: 0 0 0 0;\n",
              "      width: 32px;\n",
              "    }\n",
              "\n",
              "    .colab-df-convert:hover {\n",
              "      background-color: #E2EBFA;\n",
              "      box-shadow: 0px 1px 2px rgba(60, 64, 67, 0.3), 0px 1px 3px 1px rgba(60, 64, 67, 0.15);\n",
              "      fill: #174EA6;\n",
              "    }\n",
              "\n",
              "    [theme=dark] .colab-df-convert {\n",
              "      background-color: #3B4455;\n",
              "      fill: #D2E3FC;\n",
              "    }\n",
              "\n",
              "    [theme=dark] .colab-df-convert:hover {\n",
              "      background-color: #434B5C;\n",
              "      box-shadow: 0px 1px 3px 1px rgba(0, 0, 0, 0.15);\n",
              "      filter: drop-shadow(0px 1px 2px rgba(0, 0, 0, 0.3));\n",
              "      fill: #FFFFFF;\n",
              "    }\n",
              "  </style>\n",
              "\n",
              "      <script>\n",
              "        const buttonEl =\n",
              "          document.querySelector('#df-0f4e6fa4-b673-4574-a2af-e5477a16d66f button.colab-df-convert');\n",
              "        buttonEl.style.display =\n",
              "          google.colab.kernel.accessAllowed ? 'block' : 'none';\n",
              "\n",
              "        async function convertToInteractive(key) {\n",
              "          const element = document.querySelector('#df-0f4e6fa4-b673-4574-a2af-e5477a16d66f');\n",
              "          const dataTable =\n",
              "            await google.colab.kernel.invokeFunction('convertToInteractive',\n",
              "                                                     [key], {});\n",
              "          if (!dataTable) return;\n",
              "\n",
              "          const docLinkHtml = 'Like what you see? Visit the ' +\n",
              "            '<a target=\"_blank\" href=https://colab.research.google.com/notebooks/data_table.ipynb>data table notebook</a>'\n",
              "            + ' to learn more about interactive tables.';\n",
              "          element.innerHTML = '';\n",
              "          dataTable['output_type'] = 'display_data';\n",
              "          await google.colab.output.renderOutput(dataTable, element);\n",
              "          const docLink = document.createElement('div');\n",
              "          docLink.innerHTML = docLinkHtml;\n",
              "          element.appendChild(docLink);\n",
              "        }\n",
              "      </script>\n",
              "    </div>\n",
              "  </div>\n",
              "  "
            ],
            "text/plain": [
              "   SI NO   REGISTER NO             NAME eng_math  ... OOPS  CN  CATEGORY VALUE\n",
              "0       1      1907001      ABINANDAN.V        O  ...    O   O     DREAM    88\n",
              "1       2      1907002    AKASH LOUIS.H       A+  ...    O  A+  NON CORE    68\n",
              "2       3      1907003  ARAVIND GOKUL.A        A  ...    A   A  NON CORE    56\n",
              "3       4      1907004    CHAKRABAANI.H        O  ...    O  A+     DREAM    82\n",
              "4       5      1907005  CLIFFORD LEBO.J       A+  ...    O   O     DREAM    82\n",
              "\n",
              "[5 rows x 15 columns]"
            ]
          },
          "metadata": {},
          "execution_count": 10
        }
      ]
    },
    {
      "cell_type": "code",
      "source": [
        "#exploratory data analysis"
      ],
      "metadata": {
        "id": "dOmeBRDKl1E6"
      },
      "execution_count": null,
      "outputs": []
    },
    {
      "cell_type": "code",
      "source": [
        "plt.figure(figsize=(6,6))\n",
        "sns.countplot(df['CATEGORY'])"
      ],
      "metadata": {
        "colab": {
          "base_uri": "https://localhost:8080/",
          "height": 460
        },
        "id": "NswPjMVsBQ53",
        "outputId": "092e881f-be4f-42d8-892b-e80e8d82a063"
      },
      "execution_count": null,
      "outputs": [
        {
          "output_type": "stream",
          "name": "stderr",
          "text": [
            "/usr/local/lib/python3.7/dist-packages/seaborn/_decorators.py:43: FutureWarning: Pass the following variable as a keyword arg: x. From version 0.12, the only valid positional argument will be `data`, and passing other arguments without an explicit keyword will result in an error or misinterpretation.\n",
            "  FutureWarning\n"
          ]
        },
        {
          "output_type": "execute_result",
          "data": {
            "text/plain": [
              "<matplotlib.axes._subplots.AxesSubplot at 0x7f3aac978c50>"
            ]
          },
          "metadata": {},
          "execution_count": 11
        },
        {
          "output_type": "display_data",
          "data": {
            "image/png": "[encoded data removed]",
            "text/plain": [
              "<Figure size 432x432 with 1 Axes>"
            ]
          },
          "metadata": {
            "needs_background": "light"
          }
        }
      ]
    },
    {
      "cell_type": "code",
      "source": [
        "df.loc[df['CATEGORY'] == 'DREAM']"
      ],
      "metadata": {
        "colab": {
          "base_uri": "https://localhost:8080/",
          "height": 425
        },
        "id": "59ym273sBpdS",
        "outputId": "50c305c1-6104-46ef-cfef-68ae0e1e7664"
      },
      "execution_count": null,
      "outputs": [
        {
          "output_type": "execute_result",
          "data": {
            "text/html": [
              "\n",
              "  <div id=\"df-ed495508-f207-4086-a9e3-d1b0f8184d5b\">\n",
              "    <div class=\"colab-df-container\">\n",
              "      <div>\n",
              "<style scoped>\n",
              "    .dataframe tbody tr th:only-of-type {\n",
              "        vertical-align: middle;\n",
              "    }\n",
              "\n",
              "    .dataframe tbody tr th {\n",
              "        vertical-align: top;\n",
              "    }\n",
              "\n",
              "    .dataframe thead th {\n",
              "        text-align: right;\n",
              "    }\n",
              "</style>\n",
              "<table border=\"1\" class=\"dataframe\">\n",
              "  <thead>\n",
              "    <tr style=\"text-align: right;\">\n",
              "      <th></th>\n",
              "      <th>SI NO</th>\n",
              "      <th>REGISTER NO</th>\n",
              "      <th>NAME</th>\n",
              "      <th>eng_math</th>\n",
              "      <th>dsa 1</th>\n",
              "      <th>dsa 2</th>\n",
              "      <th>dbms</th>\n",
              "      <th>CA</th>\n",
              "      <th>OS</th>\n",
              "      <th>SE</th>\n",
              "      <th>DD</th>\n",
              "      <th>OOPS</th>\n",
              "      <th>CN</th>\n",
              "      <th>CATEGORY</th>\n",
              "      <th>VALUE</th>\n",
              "    </tr>\n",
              "  </thead>\n",
              "  <tbody>\n",
              "    <tr>\n",
              "      <th>0</th>\n",
              "      <td>1</td>\n",
              "      <td>1907001</td>\n",
              "      <td>ABINANDAN.V</td>\n",
              "      <td>O</td>\n",
              "      <td>A</td>\n",
              "      <td>A+</td>\n",
              "      <td>A+</td>\n",
              "      <td>A+</td>\n",
              "      <td>A+</td>\n",
              "      <td>O</td>\n",
              "      <td>O</td>\n",
              "      <td>O</td>\n",
              "      <td>O</td>\n",
              "      <td>DREAM</td>\n",
              "      <td>88</td>\n",
              "    </tr>\n",
              "    <tr>\n",
              "      <th>3</th>\n",
              "      <td>4</td>\n",
              "      <td>1907004</td>\n",
              "      <td>CHAKRABAANI.H</td>\n",
              "      <td>O</td>\n",
              "      <td>A</td>\n",
              "      <td>A</td>\n",
              "      <td>A+</td>\n",
              "      <td>A+</td>\n",
              "      <td>A+</td>\n",
              "      <td>O</td>\n",
              "      <td>A+</td>\n",
              "      <td>O</td>\n",
              "      <td>A+</td>\n",
              "      <td>DREAM</td>\n",
              "      <td>82</td>\n",
              "    </tr>\n",
              "    <tr>\n",
              "      <th>4</th>\n",
              "      <td>5</td>\n",
              "      <td>1907005</td>\n",
              "      <td>CLIFFORD LEBO.J</td>\n",
              "      <td>A+</td>\n",
              "      <td>A</td>\n",
              "      <td>A+</td>\n",
              "      <td>A+</td>\n",
              "      <td>A+</td>\n",
              "      <td>A</td>\n",
              "      <td>A+</td>\n",
              "      <td>O</td>\n",
              "      <td>O</td>\n",
              "      <td>O</td>\n",
              "      <td>DREAM</td>\n",
              "      <td>82</td>\n",
              "    </tr>\n",
              "    <tr>\n",
              "      <th>5</th>\n",
              "      <td>6</td>\n",
              "      <td>1907006</td>\n",
              "      <td>DARSHINI.B</td>\n",
              "      <td>A+</td>\n",
              "      <td>A</td>\n",
              "      <td>A+</td>\n",
              "      <td>A+</td>\n",
              "      <td>A+</td>\n",
              "      <td>A</td>\n",
              "      <td>A+</td>\n",
              "      <td>O</td>\n",
              "      <td>O</td>\n",
              "      <td>O</td>\n",
              "      <td>DREAM</td>\n",
              "      <td>82</td>\n",
              "    </tr>\n",
              "    <tr>\n",
              "      <th>12</th>\n",
              "      <td>13</td>\n",
              "      <td>1907013</td>\n",
              "      <td>HARIHARASUDHAN.S</td>\n",
              "      <td>A</td>\n",
              "      <td>A</td>\n",
              "      <td>A+</td>\n",
              "      <td>A+</td>\n",
              "      <td>A+</td>\n",
              "      <td>A+</td>\n",
              "      <td>A+</td>\n",
              "      <td>O</td>\n",
              "      <td>O</td>\n",
              "      <td>O</td>\n",
              "      <td>DREAM</td>\n",
              "      <td>82</td>\n",
              "    </tr>\n",
              "    <tr>\n",
              "      <th>14</th>\n",
              "      <td>15</td>\n",
              "      <td>1907015</td>\n",
              "      <td>JAIVANT ANNAAMALAI .S</td>\n",
              "      <td>O</td>\n",
              "      <td>B+</td>\n",
              "      <td>A+</td>\n",
              "      <td>A+</td>\n",
              "      <td>A+</td>\n",
              "      <td>A+</td>\n",
              "      <td>O</td>\n",
              "      <td>O</td>\n",
              "      <td>O</td>\n",
              "      <td>O</td>\n",
              "      <td>DREAM</td>\n",
              "      <td>86</td>\n",
              "    </tr>\n",
              "    <tr>\n",
              "      <th>18</th>\n",
              "      <td>19</td>\n",
              "      <td>1907019</td>\n",
              "      <td>KAUSIK SUBRAMANIYAM.G</td>\n",
              "      <td>A+</td>\n",
              "      <td>B+</td>\n",
              "      <td>A+</td>\n",
              "      <td>A+</td>\n",
              "      <td>A+</td>\n",
              "      <td>A+</td>\n",
              "      <td>A+</td>\n",
              "      <td>O</td>\n",
              "      <td>O</td>\n",
              "      <td>O</td>\n",
              "      <td>DREAM</td>\n",
              "      <td>82</td>\n",
              "    </tr>\n",
              "    <tr>\n",
              "      <th>23</th>\n",
              "      <td>24</td>\n",
              "      <td>1907024</td>\n",
              "      <td>MUKUNTH VAIBHAV.G</td>\n",
              "      <td>A+</td>\n",
              "      <td>A+</td>\n",
              "      <td>A+</td>\n",
              "      <td>A+</td>\n",
              "      <td>A+</td>\n",
              "      <td>A+</td>\n",
              "      <td>O</td>\n",
              "      <td>O</td>\n",
              "      <td>O</td>\n",
              "      <td>O</td>\n",
              "      <td>DREAM</td>\n",
              "      <td>88</td>\n",
              "    </tr>\n",
              "    <tr>\n",
              "      <th>31</th>\n",
              "      <td>32</td>\n",
              "      <td>1907032</td>\n",
              "      <td>PRIYANKA.S</td>\n",
              "      <td>A+</td>\n",
              "      <td>A</td>\n",
              "      <td>A+</td>\n",
              "      <td>A+</td>\n",
              "      <td>A+</td>\n",
              "      <td>A+</td>\n",
              "      <td>O</td>\n",
              "      <td>O</td>\n",
              "      <td>O</td>\n",
              "      <td>O</td>\n",
              "      <td>DREAM</td>\n",
              "      <td>86</td>\n",
              "    </tr>\n",
              "    <tr>\n",
              "      <th>33</th>\n",
              "      <td>34</td>\n",
              "      <td>1907034</td>\n",
              "      <td>RAHUL.K</td>\n",
              "      <td>O</td>\n",
              "      <td>A+</td>\n",
              "      <td>A+</td>\n",
              "      <td>A</td>\n",
              "      <td>A+</td>\n",
              "      <td>A+</td>\n",
              "      <td>A+</td>\n",
              "      <td>O</td>\n",
              "      <td>O</td>\n",
              "      <td>O</td>\n",
              "      <td>DREAM</td>\n",
              "      <td>86</td>\n",
              "    </tr>\n",
              "    <tr>\n",
              "      <th>46</th>\n",
              "      <td>47</td>\n",
              "      <td>1907047</td>\n",
              "      <td>SNEKHA.C</td>\n",
              "      <td>A+</td>\n",
              "      <td>A+</td>\n",
              "      <td>A+</td>\n",
              "      <td>A+</td>\n",
              "      <td>A</td>\n",
              "      <td>A</td>\n",
              "      <td>O</td>\n",
              "      <td>O</td>\n",
              "      <td>O</td>\n",
              "      <td>O</td>\n",
              "      <td>DREAM</td>\n",
              "      <td>84</td>\n",
              "    </tr>\n",
              "    <tr>\n",
              "      <th>58</th>\n",
              "      <td>59</td>\n",
              "      <td>1907059</td>\n",
              "      <td>VYSHNAVI.S</td>\n",
              "      <td>O</td>\n",
              "      <td>A</td>\n",
              "      <td>A+</td>\n",
              "      <td>A+</td>\n",
              "      <td>A+</td>\n",
              "      <td>A+</td>\n",
              "      <td>O</td>\n",
              "      <td>O</td>\n",
              "      <td>O</td>\n",
              "      <td>O</td>\n",
              "      <td>DREAM</td>\n",
              "      <td>88</td>\n",
              "    </tr>\n",
              "  </tbody>\n",
              "</table>\n",
              "</div>\n",
              "      <button class=\"colab-df-convert\" onclick=\"convertToInteractive('df-ed495508-f207-4086-a9e3-d1b0f8184d5b')\"\n",
              "              title=\"Convert this dataframe to an interactive table.\"\n",
              "              style=\"display:none;\">\n",
              "        \n",
              "  <svg xmlns=\"http://www.w3.org/2000/svg\" height=\"24px\"viewBox=\"0 0 24 24\"\n",
              "       width=\"24px\">\n",
              "    <path d=\"M0 0h24v24H0V0z\" fill=\"none\"/>\n",
              "    <path d=\"M18.56 5.44l.94 2.06.94-2.06 2.06-.94-2.06-.94-.94-2.06-.94 2.06-2.06.94zm-11 1L8.5 8.5l.94-2.06 2.06-.94-2.06-.94L8.5 2.5l-.94 2.06-2.06.94zm10 10l.94 2.06.94-2.06 2.06-.94-2.06-.94-.94-2.06-.94 2.06-2.06.94z\"/><path d=\"M17.41 7.96l-1.37-1.37c-.4-.4-.92-.59-1.43-.59-.52 0-1.04.2-1.43.59L10.3 9.45l-7.72 7.72c-.78.78-.78 2.05 0 2.83L4 21.41c.39.39.9.59 1.41.59.51 0 1.02-.2 1.41-.59l7.78-7.78 2.81-2.81c.8-.78.8-2.07 0-2.86zM5.41 20L4 18.59l7.72-7.72 1.47 1.35L5.41 20z\"/>\n",
              "  </svg>\n",
              "      </button>\n",
              "      \n",
              "  <style>\n",
              "    .colab-df-container {\n",
              "      display:flex;\n",
              "      flex-wrap:wrap;\n",
              "      gap: 12px;\n",
              "    }\n",
              "\n",
              "    .colab-df-convert {\n",
              "      background-color: #E8F0FE;\n",
              "      border: none;\n",
              "      border-radius: 50%;\n",
              "      cursor: pointer;\n",
              "      display: none;\n",
              "      fill: #1967D2;\n",
              "      height: 32px;\n",
              "      padding: 0 0 0 0;\n",
              "      width: 32px;\n",
              "    }\n",
              "\n",
              "    .colab-df-convert:hover {\n",
              "      background-color: #E2EBFA;\n",
              "      box-shadow: 0px 1px 2px rgba(60, 64, 67, 0.3), 0px 1px 3px 1px rgba(60, 64, 67, 0.15);\n",
              "      fill: #174EA6;\n",
              "    }\n",
              "\n",
              "    [theme=dark] .colab-df-convert {\n",
              "      background-color: #3B4455;\n",
              "      fill: #D2E3FC;\n",
              "    }\n",
              "\n",
              "    [theme=dark] .colab-df-convert:hover {\n",
              "      background-color: #434B5C;\n",
              "      box-shadow: 0px 1px 3px 1px rgba(0, 0, 0, 0.15);\n",
              "      filter: drop-shadow(0px 1px 2px rgba(0, 0, 0, 0.3));\n",
              "      fill: #FFFFFF;\n",
              "    }\n",
              "  </style>\n",
              "\n",
              "      <script>\n",
              "        const buttonEl =\n",
              "          document.querySelector('#df-ed495508-f207-4086-a9e3-d1b0f8184d5b button.colab-df-convert');\n",
              "        buttonEl.style.display =\n",
              "          google.colab.kernel.accessAllowed ? 'block' : 'none';\n",
              "\n",
              "        async function convertToInteractive(key) {\n",
              "          const element = document.querySelector('#df-ed495508-f207-4086-a9e3-d1b0f8184d5b');\n",
              "          const dataTable =\n",
              "            await google.colab.kernel.invokeFunction('convertToInteractive',\n",
              "                                                     [key], {});\n",
              "          if (!dataTable) return;\n",
              "\n",
              "          const docLinkHtml = 'Like what you see? Visit the ' +\n",
              "            '<a target=\"_blank\" href=https://colab.research.google.com/notebooks/data_table.ipynb>data table notebook</a>'\n",
              "            + ' to learn more about interactive tables.';\n",
              "          element.innerHTML = '';\n",
              "          dataTable['output_type'] = 'display_data';\n",
              "          await google.colab.output.renderOutput(dataTable, element);\n",
              "          const docLink = document.createElement('div');\n",
              "          docLink.innerHTML = docLinkHtml;\n",
              "          element.appendChild(docLink);\n",
              "        }\n",
              "      </script>\n",
              "    </div>\n",
              "  </div>\n",
              "  "
            ],
            "text/plain": [
              "    SI NO   REGISTER NO                   NAME  ...  CN CATEGORY VALUE\n",
              "0        1      1907001            ABINANDAN.V  ...   O    DREAM    88\n",
              "3        4      1907004          CHAKRABAANI.H  ...  A+    DREAM    82\n",
              "4        5      1907005        CLIFFORD LEBO.J  ...   O    DREAM    82\n",
              "5        6      1907006             DARSHINI.B  ...   O    DREAM    82\n",
              "12      13      1907013       HARIHARASUDHAN.S  ...   O    DREAM    82\n",
              "14      15      1907015  JAIVANT ANNAAMALAI .S  ...   O    DREAM    86\n",
              "18      19      1907019  KAUSIK SUBRAMANIYAM.G  ...   O    DREAM    82\n",
              "23      24      1907024      MUKUNTH VAIBHAV.G  ...   O    DREAM    88\n",
              "31      32      1907032             PRIYANKA.S  ...   O    DREAM    86\n",
              "33      34      1907034                RAHUL.K  ...   O    DREAM    86\n",
              "46      47      1907047               SNEKHA.C  ...   O    DREAM    84\n",
              "58      59      1907059             VYSHNAVI.S  ...   O    DREAM    88\n",
              "\n",
              "[12 rows x 15 columns]"
            ]
          },
          "metadata": {},
          "execution_count": 12
        }
      ]
    },
    {
      "cell_type": "code",
      "source": [
        "#grade detection"
      ],
      "metadata": {
        "id": "vDs_CEzJmFLi"
      },
      "execution_count": null,
      "outputs": []
    },
    {
      "cell_type": "code",
      "source": [
        "plt.figure(figsize=(5,4))\n",
        "plt.xticks(rotation=90)\n",
        "sns.countplot(df['eng_math'],palette=\"Set3\")\n"
      ],
      "metadata": {
        "colab": {
          "base_uri": "https://localhost:8080/",
          "height": 357
        },
        "id": "YARYNFN4ByHJ",
        "outputId": "17925ba1-903f-482f-942d-c4ea574c2b15"
      },
      "execution_count": null,
      "outputs": [
        {
          "output_type": "stream",
          "name": "stderr",
          "text": [
            "/usr/local/lib/python3.7/dist-packages/seaborn/_decorators.py:43: FutureWarning: Pass the following variable as a keyword arg: x. From version 0.12, the only valid positional argument will be `data`, and passing other arguments without an explicit keyword will result in an error or misinterpretation.\n",
            "  FutureWarning\n"
          ]
        },
        {
          "output_type": "execute_result",
          "data": {
            "text/plain": [
              "<matplotlib.axes._subplots.AxesSubplot at 0x7f3aac89ee10>"
            ]
          },
          "metadata": {},
          "execution_count": 13
        },
        {
          "output_type": "display_data",
          "data": {
            "image/png": "[encoded data removed]",
            "text/plain": [
              "<Figure size 360x288 with 1 Axes>"
            ]
          },
          "metadata": {
            "needs_background": "light"
          }
        }
      ]
    },
    {
      "cell_type": "code",
      "source": [
        "#Data pre-processing"
      ],
      "metadata": {
        "id": "CM8ZsHdJmKbW"
      },
      "execution_count": null,
      "outputs": []
    },
    {
      "cell_type": "code",
      "source": [
        "df.rename(columns = {'eng_math':'engineering mathematics'}, inplace = True)\n",
        "df.head()"
      ],
      "metadata": {
        "colab": {
          "base_uri": "https://localhost:8080/",
          "height": 206
        },
        "id": "DA6_N267CyiM",
        "outputId": "0d2b08c5-0d8b-4670-c3d3-e74bbed0efd8"
      },
      "execution_count": null,
      "outputs": [
        {
          "output_type": "execute_result",
          "data": {
            "text/html": [
              "\n",
              "  <div id=\"df-bf4fea07-3840-4bf2-ade6-fb8d7859b29c\">\n",
              "    <div class=\"colab-df-container\">\n",
              "      <div>\n",
              "<style scoped>\n",
              "    .dataframe tbody tr th:only-of-type {\n",
              "        vertical-align: middle;\n",
              "    }\n",
              "\n",
              "    .dataframe tbody tr th {\n",
              "        vertical-align: top;\n",
              "    }\n",
              "\n",
              "    .dataframe thead th {\n",
              "        text-align: right;\n",
              "    }\n",
              "</style>\n",
              "<table border=\"1\" class=\"dataframe\">\n",
              "  <thead>\n",
              "    <tr style=\"text-align: right;\">\n",
              "      <th></th>\n",
              "      <th>SI NO</th>\n",
              "      <th>REGISTER NO</th>\n",
              "      <th>NAME</th>\n",
              "      <th>engineering mathematics</th>\n",
              "      <th>dsa 1</th>\n",
              "      <th>dsa 2</th>\n",
              "      <th>dbms</th>\n",
              "      <th>CA</th>\n",
              "      <th>OS</th>\n",
              "      <th>SE</th>\n",
              "      <th>DD</th>\n",
              "      <th>OOPS</th>\n",
              "      <th>CN</th>\n",
              "      <th>CATEGORY</th>\n",
              "      <th>VALUE</th>\n",
              "    </tr>\n",
              "  </thead>\n",
              "  <tbody>\n",
              "    <tr>\n",
              "      <th>0</th>\n",
              "      <td>1</td>\n",
              "      <td>1907001</td>\n",
              "      <td>ABINANDAN.V</td>\n",
              "      <td>O</td>\n",
              "      <td>A</td>\n",
              "      <td>A+</td>\n",
              "      <td>A+</td>\n",
              "      <td>A+</td>\n",
              "      <td>A+</td>\n",
              "      <td>O</td>\n",
              "      <td>O</td>\n",
              "      <td>O</td>\n",
              "      <td>O</td>\n",
              "      <td>DREAM</td>\n",
              "      <td>88</td>\n",
              "    </tr>\n",
              "    <tr>\n",
              "      <th>1</th>\n",
              "      <td>2</td>\n",
              "      <td>1907002</td>\n",
              "      <td>AKASH LOUIS.H</td>\n",
              "      <td>A+</td>\n",
              "      <td>B+</td>\n",
              "      <td>A</td>\n",
              "      <td>B+</td>\n",
              "      <td>A</td>\n",
              "      <td>A</td>\n",
              "      <td>A+</td>\n",
              "      <td>A+</td>\n",
              "      <td>O</td>\n",
              "      <td>A+</td>\n",
              "      <td>NON CORE</td>\n",
              "      <td>68</td>\n",
              "    </tr>\n",
              "    <tr>\n",
              "      <th>2</th>\n",
              "      <td>3</td>\n",
              "      <td>1907003</td>\n",
              "      <td>ARAVIND GOKUL.A</td>\n",
              "      <td>A</td>\n",
              "      <td>B+</td>\n",
              "      <td>A</td>\n",
              "      <td>A</td>\n",
              "      <td>B+</td>\n",
              "      <td>B+</td>\n",
              "      <td>A+</td>\n",
              "      <td>A</td>\n",
              "      <td>A</td>\n",
              "      <td>A</td>\n",
              "      <td>NON CORE</td>\n",
              "      <td>56</td>\n",
              "    </tr>\n",
              "    <tr>\n",
              "      <th>3</th>\n",
              "      <td>4</td>\n",
              "      <td>1907004</td>\n",
              "      <td>CHAKRABAANI.H</td>\n",
              "      <td>O</td>\n",
              "      <td>A</td>\n",
              "      <td>A</td>\n",
              "      <td>A+</td>\n",
              "      <td>A+</td>\n",
              "      <td>A+</td>\n",
              "      <td>O</td>\n",
              "      <td>A+</td>\n",
              "      <td>O</td>\n",
              "      <td>A+</td>\n",
              "      <td>DREAM</td>\n",
              "      <td>82</td>\n",
              "    </tr>\n",
              "    <tr>\n",
              "      <th>4</th>\n",
              "      <td>5</td>\n",
              "      <td>1907005</td>\n",
              "      <td>CLIFFORD LEBO.J</td>\n",
              "      <td>A+</td>\n",
              "      <td>A</td>\n",
              "      <td>A+</td>\n",
              "      <td>A+</td>\n",
              "      <td>A+</td>\n",
              "      <td>A</td>\n",
              "      <td>A+</td>\n",
              "      <td>O</td>\n",
              "      <td>O</td>\n",
              "      <td>O</td>\n",
              "      <td>DREAM</td>\n",
              "      <td>82</td>\n",
              "    </tr>\n",
              "  </tbody>\n",
              "</table>\n",
              "</div>\n",
              "      <button class=\"colab-df-convert\" onclick=\"convertToInteractive('df-bf4fea07-3840-4bf2-ade6-fb8d7859b29c')\"\n",
              "              title=\"Convert this dataframe to an interactive table.\"\n",
              "              style=\"display:none;\">\n",
              "        \n",
              "  <svg xmlns=\"http://www.w3.org/2000/svg\" height=\"24px\"viewBox=\"0 0 24 24\"\n",
              "       width=\"24px\">\n",
              "    <path d=\"M0 0h24v24H0V0z\" fill=\"none\"/>\n",
              "    <path d=\"M18.56 5.44l.94 2.06.94-2.06 2.06-.94-2.06-.94-.94-2.06-.94 2.06-2.06.94zm-11 1L8.5 8.5l.94-2.06 2.06-.94-2.06-.94L8.5 2.5l-.94 2.06-2.06.94zm10 10l.94 2.06.94-2.06 2.06-.94-2.06-.94-.94-2.06-.94 2.06-2.06.94z\"/><path d=\"M17.41 7.96l-1.37-1.37c-.4-.4-.92-.59-1.43-.59-.52 0-1.04.2-1.43.59L10.3 9.45l-7.72 7.72c-.78.78-.78 2.05 0 2.83L4 21.41c.39.39.9.59 1.41.59.51 0 1.02-.2 1.41-.59l7.78-7.78 2.81-2.81c.8-.78.8-2.07 0-2.86zM5.41 20L4 18.59l7.72-7.72 1.47 1.35L5.41 20z\"/>\n",
              "  </svg>\n",
              "      </button>\n",
              "      \n",
              "  <style>\n",
              "    .colab-df-container {\n",
              "      display:flex;\n",
              "      flex-wrap:wrap;\n",
              "      gap: 12px;\n",
              "    }\n",
              "\n",
              "    .colab-df-convert {\n",
              "      background-color: #E8F0FE;\n",
              "      border: none;\n",
              "      border-radius: 50%;\n",
              "      cursor: pointer;\n",
              "      display: none;\n",
              "      fill: #1967D2;\n",
              "      height: 32px;\n",
              "      padding: 0 0 0 0;\n",
              "      width: 32px;\n",
              "    }\n",
              "\n",
              "    .colab-df-convert:hover {\n",
              "      background-color: #E2EBFA;\n",
              "      box-shadow: 0px 1px 2px rgba(60, 64, 67, 0.3), 0px 1px 3px 1px rgba(60, 64, 67, 0.15);\n",
              "      fill: #174EA6;\n",
              "    }\n",
              "\n",
              "    [theme=dark] .colab-df-convert {\n",
              "      background-color: #3B4455;\n",
              "      fill: #D2E3FC;\n",
              "    }\n",
              "\n",
              "    [theme=dark] .colab-df-convert:hover {\n",
              "      background-color: #434B5C;\n",
              "      box-shadow: 0px 1px 3px 1px rgba(0, 0, 0, 0.15);\n",
              "      filter: drop-shadow(0px 1px 2px rgba(0, 0, 0, 0.3));\n",
              "      fill: #FFFFFF;\n",
              "    }\n",
              "  </style>\n",
              "\n",
              "      <script>\n",
              "        const buttonEl =\n",
              "          document.querySelector('#df-bf4fea07-3840-4bf2-ade6-fb8d7859b29c button.colab-df-convert');\n",
              "        buttonEl.style.display =\n",
              "          google.colab.kernel.accessAllowed ? 'block' : 'none';\n",
              "\n",
              "        async function convertToInteractive(key) {\n",
              "          const element = document.querySelector('#df-bf4fea07-3840-4bf2-ade6-fb8d7859b29c');\n",
              "          const dataTable =\n",
              "            await google.colab.kernel.invokeFunction('convertToInteractive',\n",
              "                                                     [key], {});\n",
              "          if (!dataTable) return;\n",
              "\n",
              "          const docLinkHtml = 'Like what you see? Visit the ' +\n",
              "            '<a target=\"_blank\" href=https://colab.research.google.com/notebooks/data_table.ipynb>data table notebook</a>'\n",
              "            + ' to learn more about interactive tables.';\n",
              "          element.innerHTML = '';\n",
              "          dataTable['output_type'] = 'display_data';\n",
              "          await google.colab.output.renderOutput(dataTable, element);\n",
              "          const docLink = document.createElement('div');\n",
              "          docLink.innerHTML = docLinkHtml;\n",
              "          element.appendChild(docLink);\n",
              "        }\n",
              "      </script>\n",
              "    </div>\n",
              "  </div>\n",
              "  "
            ],
            "text/plain": [
              "   SI NO   REGISTER NO             NAME  ...  CN  CATEGORY VALUE\n",
              "0       1      1907001      ABINANDAN.V  ...   O     DREAM    88\n",
              "1       2      1907002    AKASH LOUIS.H  ...  A+  NON CORE    68\n",
              "2       3      1907003  ARAVIND GOKUL.A  ...   A  NON CORE    56\n",
              "3       4      1907004    CHAKRABAANI.H  ...  A+     DREAM    82\n",
              "4       5      1907005  CLIFFORD LEBO.J  ...   O     DREAM    82\n",
              "\n",
              "[5 rows x 15 columns]"
            ]
          },
          "metadata": {},
          "execution_count": 14
        }
      ]
    },
    {
      "cell_type": "code",
      "source": [
        "df = df.drop([\"VALUE\"], axis=1)\n",
        "df.head()"
      ],
      "metadata": {
        "colab": {
          "base_uri": "https://localhost:8080/",
          "height": 206
        },
        "id": "OSUVqcTpDzBA",
        "outputId": "dbfa4aa0-b4e6-42e9-8cac-6769052792b5"
      },
      "execution_count": null,
      "outputs": [
        {
          "output_type": "execute_result",
          "data": {
            "text/html": [
              "\n",
              "  <div id=\"df-1580a4de-c755-4e3a-aaa1-577144806d0c\">\n",
              "    <div class=\"colab-df-container\">\n",
              "      <div>\n",
              "<style scoped>\n",
              "    .dataframe tbody tr th:only-of-type {\n",
              "        vertical-align: middle;\n",
              "    }\n",
              "\n",
              "    .dataframe tbody tr th {\n",
              "        vertical-align: top;\n",
              "    }\n",
              "\n",
              "    .dataframe thead th {\n",
              "        text-align: right;\n",
              "    }\n",
              "</style>\n",
              "<table border=\"1\" class=\"dataframe\">\n",
              "  <thead>\n",
              "    <tr style=\"text-align: right;\">\n",
              "      <th></th>\n",
              "      <th>SI NO</th>\n",
              "      <th>REGISTER NO</th>\n",
              "      <th>NAME</th>\n",
              "      <th>engineering mathematics</th>\n",
              "      <th>dsa 1</th>\n",
              "      <th>dsa 2</th>\n",
              "      <th>dbms</th>\n",
              "      <th>CA</th>\n",
              "      <th>OS</th>\n",
              "      <th>SE</th>\n",
              "      <th>DD</th>\n",
              "      <th>OOPS</th>\n",
              "      <th>CN</th>\n",
              "      <th>CATEGORY</th>\n",
              "    </tr>\n",
              "  </thead>\n",
              "  <tbody>\n",
              "    <tr>\n",
              "      <th>0</th>\n",
              "      <td>1</td>\n",
              "      <td>1907001</td>\n",
              "      <td>ABINANDAN.V</td>\n",
              "      <td>O</td>\n",
              "      <td>A</td>\n",
              "      <td>A+</td>\n",
              "      <td>A+</td>\n",
              "      <td>A+</td>\n",
              "      <td>A+</td>\n",
              "      <td>O</td>\n",
              "      <td>O</td>\n",
              "      <td>O</td>\n",
              "      <td>O</td>\n",
              "      <td>DREAM</td>\n",
              "    </tr>\n",
              "    <tr>\n",
              "      <th>1</th>\n",
              "      <td>2</td>\n",
              "      <td>1907002</td>\n",
              "      <td>AKASH LOUIS.H</td>\n",
              "      <td>A+</td>\n",
              "      <td>B+</td>\n",
              "      <td>A</td>\n",
              "      <td>B+</td>\n",
              "      <td>A</td>\n",
              "      <td>A</td>\n",
              "      <td>A+</td>\n",
              "      <td>A+</td>\n",
              "      <td>O</td>\n",
              "      <td>A+</td>\n",
              "      <td>NON CORE</td>\n",
              "    </tr>\n",
              "    <tr>\n",
              "      <th>2</th>\n",
              "      <td>3</td>\n",
              "      <td>1907003</td>\n",
              "      <td>ARAVIND GOKUL.A</td>\n",
              "      <td>A</td>\n",
              "      <td>B+</td>\n",
              "      <td>A</td>\n",
              "      <td>A</td>\n",
              "      <td>B+</td>\n",
              "      <td>B+</td>\n",
              "      <td>A+</td>\n",
              "      <td>A</td>\n",
              "      <td>A</td>\n",
              "      <td>A</td>\n",
              "      <td>NON CORE</td>\n",
              "    </tr>\n",
              "    <tr>\n",
              "      <th>3</th>\n",
              "      <td>4</td>\n",
              "      <td>1907004</td>\n",
              "      <td>CHAKRABAANI.H</td>\n",
              "      <td>O</td>\n",
              "      <td>A</td>\n",
              "      <td>A</td>\n",
              "      <td>A+</td>\n",
              "      <td>A+</td>\n",
              "      <td>A+</td>\n",
              "      <td>O</td>\n",
              "      <td>A+</td>\n",
              "      <td>O</td>\n",
              "      <td>A+</td>\n",
              "      <td>DREAM</td>\n",
              "    </tr>\n",
              "    <tr>\n",
              "      <th>4</th>\n",
              "      <td>5</td>\n",
              "      <td>1907005</td>\n",
              "      <td>CLIFFORD LEBO.J</td>\n",
              "      <td>A+</td>\n",
              "      <td>A</td>\n",
              "      <td>A+</td>\n",
              "      <td>A+</td>\n",
              "      <td>A+</td>\n",
              "      <td>A</td>\n",
              "      <td>A+</td>\n",
              "      <td>O</td>\n",
              "      <td>O</td>\n",
              "      <td>O</td>\n",
              "      <td>DREAM</td>\n",
              "    </tr>\n",
              "  </tbody>\n",
              "</table>\n",
              "</div>\n",
              "      <button class=\"colab-df-convert\" onclick=\"convertToInteractive('df-1580a4de-c755-4e3a-aaa1-577144806d0c')\"\n",
              "              title=\"Convert this dataframe to an interactive table.\"\n",
              "              style=\"display:none;\">\n",
              "        \n",
              "  <svg xmlns=\"http://www.w3.org/2000/svg\" height=\"24px\"viewBox=\"0 0 24 24\"\n",
              "       width=\"24px\">\n",
              "    <path d=\"M0 0h24v24H0V0z\" fill=\"none\"/>\n",
              "    <path d=\"M18.56 5.44l.94 2.06.94-2.06 2.06-.94-2.06-.94-.94-2.06-.94 2.06-2.06.94zm-11 1L8.5 8.5l.94-2.06 2.06-.94-2.06-.94L8.5 2.5l-.94 2.06-2.06.94zm10 10l.94 2.06.94-2.06 2.06-.94-2.06-.94-.94-2.06-.94 2.06-2.06.94z\"/><path d=\"M17.41 7.96l-1.37-1.37c-.4-.4-.92-.59-1.43-.59-.52 0-1.04.2-1.43.59L10.3 9.45l-7.72 7.72c-.78.78-.78 2.05 0 2.83L4 21.41c.39.39.9.59 1.41.59.51 0 1.02-.2 1.41-.59l7.78-7.78 2.81-2.81c.8-.78.8-2.07 0-2.86zM5.41 20L4 18.59l7.72-7.72 1.47 1.35L5.41 20z\"/>\n",
              "  </svg>\n",
              "      </button>\n",
              "      \n",
              "  <style>\n",
              "    .colab-df-container {\n",
              "      display:flex;\n",
              "      flex-wrap:wrap;\n",
              "      gap: 12px;\n",
              "    }\n",
              "\n",
              "    .colab-df-convert {\n",
              "      background-color: #E8F0FE;\n",
              "      border: none;\n",
              "      border-radius: 50%;\n",
              "      cursor: pointer;\n",
              "      display: none;\n",
              "      fill: #1967D2;\n",
              "      height: 32px;\n",
              "      padding: 0 0 0 0;\n",
              "      width: 32px;\n",
              "    }\n",
              "\n",
              "    .colab-df-convert:hover {\n",
              "      background-color: #E2EBFA;\n",
              "      box-shadow: 0px 1px 2px rgba(60, 64, 67, 0.3), 0px 1px 3px 1px rgba(60, 64, 67, 0.15);\n",
              "      fill: #174EA6;\n",
              "    }\n",
              "\n",
              "    [theme=dark] .colab-df-convert {\n",
              "      background-color: #3B4455;\n",
              "      fill: #D2E3FC;\n",
              "    }\n",
              "\n",
              "    [theme=dark] .colab-df-convert:hover {\n",
              "      background-color: #434B5C;\n",
              "      box-shadow: 0px 1px 3px 1px rgba(0, 0, 0, 0.15);\n",
              "      filter: drop-shadow(0px 1px 2px rgba(0, 0, 0, 0.3));\n",
              "      fill: #FFFFFF;\n",
              "    }\n",
              "  </style>\n",
              "\n",
              "      <script>\n",
              "        const buttonEl =\n",
              "          document.querySelector('#df-1580a4de-c755-4e3a-aaa1-577144806d0c button.colab-df-convert');\n",
              "        buttonEl.style.display =\n",
              "          google.colab.kernel.accessAllowed ? 'block' : 'none';\n",
              "\n",
              "        async function convertToInteractive(key) {\n",
              "          const element = document.querySelector('#df-1580a4de-c755-4e3a-aaa1-577144806d0c');\n",
              "          const dataTable =\n",
              "            await google.colab.kernel.invokeFunction('convertToInteractive',\n",
              "                                                     [key], {});\n",
              "          if (!dataTable) return;\n",
              "\n",
              "          const docLinkHtml = 'Like what you see? Visit the ' +\n",
              "            '<a target=\"_blank\" href=https://colab.research.google.com/notebooks/data_table.ipynb>data table notebook</a>'\n",
              "            + ' to learn more about interactive tables.';\n",
              "          element.innerHTML = '';\n",
              "          dataTable['output_type'] = 'display_data';\n",
              "          await google.colab.output.renderOutput(dataTable, element);\n",
              "          const docLink = document.createElement('div');\n",
              "          docLink.innerHTML = docLinkHtml;\n",
              "          element.appendChild(docLink);\n",
              "        }\n",
              "      </script>\n",
              "    </div>\n",
              "  </div>\n",
              "  "
            ],
            "text/plain": [
              "   SI NO   REGISTER NO             NAME  ... OOPS  CN  CATEGORY\n",
              "0       1      1907001      ABINANDAN.V  ...    O   O     DREAM\n",
              "1       2      1907002    AKASH LOUIS.H  ...    O  A+  NON CORE\n",
              "2       3      1907003  ARAVIND GOKUL.A  ...    A   A  NON CORE\n",
              "3       4      1907004    CHAKRABAANI.H  ...    O  A+     DREAM\n",
              "4       5      1907005  CLIFFORD LEBO.J  ...    O   O     DREAM\n",
              "\n",
              "[5 rows x 14 columns]"
            ]
          },
          "metadata": {},
          "execution_count": 15
        }
      ]
    },
    {
      "cell_type": "code",
      "source": [
        "X = df.iloc[:, 3:13]\n",
        "Y = df['CATEGORY']"
      ],
      "metadata": {
        "id": "PTyOfyJzEAPB"
      },
      "execution_count": null,
      "outputs": []
    },
    {
      "cell_type": "code",
      "source": [
        "Y.head()"
      ],
      "metadata": {
        "colab": {
          "base_uri": "https://localhost:8080/"
        },
        "id": "syT5mg4NEt67",
        "outputId": "fcf68aa0-87db-44ab-81e3-344d53254d72"
      },
      "execution_count": null,
      "outputs": [
        {
          "output_type": "execute_result",
          "data": {
            "text/plain": [
              "0       DREAM\n",
              "1    NON CORE\n",
              "2    NON CORE\n",
              "3       DREAM\n",
              "4       DREAM\n",
              "Name: CATEGORY, dtype: object"
            ]
          },
          "metadata": {},
          "execution_count": 19
        }
      ]
    },
    {
      "cell_type": "code",
      "source": [
        "X.head()"
      ],
      "metadata": {
        "colab": {
          "base_uri": "https://localhost:8080/",
          "height": 206
        },
        "id": "3b0Cflb5bjx0",
        "outputId": "fde5e59c-951d-4534-ba2a-1eddb8c1246d"
      },
      "execution_count": null,
      "outputs": [
        {
          "output_type": "execute_result",
          "data": {
            "text/html": [
              "\n",
              "  <div id=\"df-f43550f3-8b45-4d84-8068-cffab14f302c\">\n",
              "    <div class=\"colab-df-container\">\n",
              "      <div>\n",
              "<style scoped>\n",
              "    .dataframe tbody tr th:only-of-type {\n",
              "        vertical-align: middle;\n",
              "    }\n",
              "\n",
              "    .dataframe tbody tr th {\n",
              "        vertical-align: top;\n",
              "    }\n",
              "\n",
              "    .dataframe thead th {\n",
              "        text-align: right;\n",
              "    }\n",
              "</style>\n",
              "<table border=\"1\" class=\"dataframe\">\n",
              "  <thead>\n",
              "    <tr style=\"text-align: right;\">\n",
              "      <th></th>\n",
              "      <th>engineering mathematics</th>\n",
              "      <th>dsa 1</th>\n",
              "      <th>dsa 2</th>\n",
              "      <th>dbms</th>\n",
              "      <th>CA</th>\n",
              "      <th>OS</th>\n",
              "      <th>SE</th>\n",
              "      <th>DD</th>\n",
              "      <th>OOPS</th>\n",
              "      <th>CN</th>\n",
              "    </tr>\n",
              "  </thead>\n",
              "  <tbody>\n",
              "    <tr>\n",
              "      <th>0</th>\n",
              "      <td>3</td>\n",
              "      <td>0</td>\n",
              "      <td>1</td>\n",
              "      <td>1</td>\n",
              "      <td>1</td>\n",
              "      <td>1</td>\n",
              "      <td>2</td>\n",
              "      <td>2</td>\n",
              "      <td>2</td>\n",
              "      <td>3</td>\n",
              "    </tr>\n",
              "    <tr>\n",
              "      <th>1</th>\n",
              "      <td>1</td>\n",
              "      <td>2</td>\n",
              "      <td>0</td>\n",
              "      <td>2</td>\n",
              "      <td>0</td>\n",
              "      <td>0</td>\n",
              "      <td>0</td>\n",
              "      <td>1</td>\n",
              "      <td>2</td>\n",
              "      <td>1</td>\n",
              "    </tr>\n",
              "    <tr>\n",
              "      <th>2</th>\n",
              "      <td>0</td>\n",
              "      <td>2</td>\n",
              "      <td>0</td>\n",
              "      <td>0</td>\n",
              "      <td>2</td>\n",
              "      <td>2</td>\n",
              "      <td>0</td>\n",
              "      <td>0</td>\n",
              "      <td>0</td>\n",
              "      <td>0</td>\n",
              "    </tr>\n",
              "    <tr>\n",
              "      <th>3</th>\n",
              "      <td>3</td>\n",
              "      <td>0</td>\n",
              "      <td>0</td>\n",
              "      <td>1</td>\n",
              "      <td>1</td>\n",
              "      <td>1</td>\n",
              "      <td>2</td>\n",
              "      <td>1</td>\n",
              "      <td>2</td>\n",
              "      <td>1</td>\n",
              "    </tr>\n",
              "    <tr>\n",
              "      <th>4</th>\n",
              "      <td>1</td>\n",
              "      <td>0</td>\n",
              "      <td>1</td>\n",
              "      <td>1</td>\n",
              "      <td>1</td>\n",
              "      <td>0</td>\n",
              "      <td>0</td>\n",
              "      <td>2</td>\n",
              "      <td>2</td>\n",
              "      <td>3</td>\n",
              "    </tr>\n",
              "  </tbody>\n",
              "</table>\n",
              "</div>\n",
              "      <button class=\"colab-df-convert\" onclick=\"convertToInteractive('df-f43550f3-8b45-4d84-8068-cffab14f302c')\"\n",
              "              title=\"Convert this dataframe to an interactive table.\"\n",
              "              style=\"display:none;\">\n",
              "        \n",
              "  <svg xmlns=\"http://www.w3.org/2000/svg\" height=\"24px\"viewBox=\"0 0 24 24\"\n",
              "       width=\"24px\">\n",
              "    <path d=\"M0 0h24v24H0V0z\" fill=\"none\"/>\n",
              "    <path d=\"M18.56 5.44l.94 2.06.94-2.06 2.06-.94-2.06-.94-.94-2.06-.94 2.06-2.06.94zm-11 1L8.5 8.5l.94-2.06 2.06-.94-2.06-.94L8.5 2.5l-.94 2.06-2.06.94zm10 10l.94 2.06.94-2.06 2.06-.94-2.06-.94-.94-2.06-.94 2.06-2.06.94z\"/><path d=\"M17.41 7.96l-1.37-1.37c-.4-.4-.92-.59-1.43-.59-.52 0-1.04.2-1.43.59L10.3 9.45l-7.72 7.72c-.78.78-.78 2.05 0 2.83L4 21.41c.39.39.9.59 1.41.59.51 0 1.02-.2 1.41-.59l7.78-7.78 2.81-2.81c.8-.78.8-2.07 0-2.86zM5.41 20L4 18.59l7.72-7.72 1.47 1.35L5.41 20z\"/>\n",
              "  </svg>\n",
              "      </button>\n",
              "      \n",
              "  <style>\n",
              "    .colab-df-container {\n",
              "      display:flex;\n",
              "      flex-wrap:wrap;\n",
              "      gap: 12px;\n",
              "    }\n",
              "\n",
              "    .colab-df-convert {\n",
              "      background-color: #E8F0FE;\n",
              "      border: none;\n",
              "      border-radius: 50%;\n",
              "      cursor: pointer;\n",
              "      display: none;\n",
              "      fill: #1967D2;\n",
              "      height: 32px;\n",
              "      padding: 0 0 0 0;\n",
              "      width: 32px;\n",
              "    }\n",
              "\n",
              "    .colab-df-convert:hover {\n",
              "      background-color: #E2EBFA;\n",
              "      box-shadow: 0px 1px 2px rgba(60, 64, 67, 0.3), 0px 1px 3px 1px rgba(60, 64, 67, 0.15);\n",
              "      fill: #174EA6;\n",
              "    }\n",
              "\n",
              "    [theme=dark] .colab-df-convert {\n",
              "      background-color: #3B4455;\n",
              "      fill: #D2E3FC;\n",
              "    }\n",
              "\n",
              "    [theme=dark] .colab-df-convert:hover {\n",
              "      background-color: #434B5C;\n",
              "      box-shadow: 0px 1px 3px 1px rgba(0, 0, 0, 0.15);\n",
              "      filter: drop-shadow(0px 1px 2px rgba(0, 0, 0, 0.3));\n",
              "      fill: #FFFFFF;\n",
              "    }\n",
              "  </style>\n",
              "\n",
              "      <script>\n",
              "        const buttonEl =\n",
              "          document.querySelector('#df-f43550f3-8b45-4d84-8068-cffab14f302c button.colab-df-convert');\n",
              "        buttonEl.style.display =\n",
              "          google.colab.kernel.accessAllowed ? 'block' : 'none';\n",
              "\n",
              "        async function convertToInteractive(key) {\n",
              "          const element = document.querySelector('#df-f43550f3-8b45-4d84-8068-cffab14f302c');\n",
              "          const dataTable =\n",
              "            await google.colab.kernel.invokeFunction('convertToInteractive',\n",
              "                                                     [key], {});\n",
              "          if (!dataTable) return;\n",
              "\n",
              "          const docLinkHtml = 'Like what you see? Visit the ' +\n",
              "            '<a target=\"_blank\" href=https://colab.research.google.com/notebooks/data_table.ipynb>data table notebook</a>'\n",
              "            + ' to learn more about interactive tables.';\n",
              "          element.innerHTML = '';\n",
              "          dataTable['output_type'] = 'display_data';\n",
              "          await google.colab.output.renderOutput(dataTable, element);\n",
              "          const docLink = document.createElement('div');\n",
              "          docLink.innerHTML = docLinkHtml;\n",
              "          element.appendChild(docLink);\n",
              "        }\n",
              "      </script>\n",
              "    </div>\n",
              "  </div>\n",
              "  "
            ],
            "text/plain": [
              "   engineering mathematics  dsa 1  dsa 2  dbms  CA  OS   SE  DD  OOPS  CN\n",
              "0                        3      0      1     1   1    1   2   2     2   3\n",
              "1                        1      2      0     2   0    0   0   1     2   1\n",
              "2                        0      2      0     0   2    2   0   0     0   0\n",
              "3                        3      0      0     1   1    1   2   1     2   1\n",
              "4                        1      0      1     1   1    0   0   2     2   3"
            ]
          },
          "metadata": {},
          "execution_count": 68
        }
      ]
    },
    {
      "cell_type": "code",
      "source": [
        "from sklearn.preprocessing import LabelEncoder\n",
        "lb = LabelEncoder()\n",
        "X=X.apply(LabelEncoder().fit_transform)\n",
        "Y = lb.fit_transform(Y)"
      ],
      "metadata": {
        "id": "KPShE7LWEuDU"
      },
      "execution_count": null,
      "outputs": []
    },
    {
      "cell_type": "code",
      "source": [
        "X.head()"
      ],
      "metadata": {
        "colab": {
          "base_uri": "https://localhost:8080/",
          "height": 206
        },
        "id": "ErRcVK5uNv8P",
        "outputId": "62553a0c-75a6-49ef-b4e1-d5e1a0d94ac4"
      },
      "execution_count": null,
      "outputs": [
        {
          "output_type": "execute_result",
          "data": {
            "text/html": [
              "\n",
              "  <div id=\"df-5808b65b-1888-4e12-b2ea-4dda85a2ed08\">\n",
              "    <div class=\"colab-df-container\">\n",
              "      <div>\n",
              "<style scoped>\n",
              "    .dataframe tbody tr th:only-of-type {\n",
              "        vertical-align: middle;\n",
              "    }\n",
              "\n",
              "    .dataframe tbody tr th {\n",
              "        vertical-align: top;\n",
              "    }\n",
              "\n",
              "    .dataframe thead th {\n",
              "        text-align: right;\n",
              "    }\n",
              "</style>\n",
              "<table border=\"1\" class=\"dataframe\">\n",
              "  <thead>\n",
              "    <tr style=\"text-align: right;\">\n",
              "      <th></th>\n",
              "      <th>engineering mathematics</th>\n",
              "      <th>dsa 1</th>\n",
              "      <th>dsa 2</th>\n",
              "      <th>dbms</th>\n",
              "      <th>CA</th>\n",
              "      <th>OS</th>\n",
              "      <th>SE</th>\n",
              "      <th>DD</th>\n",
              "      <th>OOPS</th>\n",
              "      <th>CN</th>\n",
              "    </tr>\n",
              "  </thead>\n",
              "  <tbody>\n",
              "    <tr>\n",
              "      <th>0</th>\n",
              "      <td>3</td>\n",
              "      <td>0</td>\n",
              "      <td>1</td>\n",
              "      <td>1</td>\n",
              "      <td>1</td>\n",
              "      <td>1</td>\n",
              "      <td>2</td>\n",
              "      <td>2</td>\n",
              "      <td>2</td>\n",
              "      <td>3</td>\n",
              "    </tr>\n",
              "    <tr>\n",
              "      <th>1</th>\n",
              "      <td>1</td>\n",
              "      <td>2</td>\n",
              "      <td>0</td>\n",
              "      <td>2</td>\n",
              "      <td>0</td>\n",
              "      <td>0</td>\n",
              "      <td>0</td>\n",
              "      <td>1</td>\n",
              "      <td>2</td>\n",
              "      <td>1</td>\n",
              "    </tr>\n",
              "    <tr>\n",
              "      <th>2</th>\n",
              "      <td>0</td>\n",
              "      <td>2</td>\n",
              "      <td>0</td>\n",
              "      <td>0</td>\n",
              "      <td>2</td>\n",
              "      <td>2</td>\n",
              "      <td>0</td>\n",
              "      <td>0</td>\n",
              "      <td>0</td>\n",
              "      <td>0</td>\n",
              "    </tr>\n",
              "    <tr>\n",
              "      <th>3</th>\n",
              "      <td>3</td>\n",
              "      <td>0</td>\n",
              "      <td>0</td>\n",
              "      <td>1</td>\n",
              "      <td>1</td>\n",
              "      <td>1</td>\n",
              "      <td>2</td>\n",
              "      <td>1</td>\n",
              "      <td>2</td>\n",
              "      <td>1</td>\n",
              "    </tr>\n",
              "    <tr>\n",
              "      <th>4</th>\n",
              "      <td>1</td>\n",
              "      <td>0</td>\n",
              "      <td>1</td>\n",
              "      <td>1</td>\n",
              "      <td>1</td>\n",
              "      <td>0</td>\n",
              "      <td>0</td>\n",
              "      <td>2</td>\n",
              "      <td>2</td>\n",
              "      <td>3</td>\n",
              "    </tr>\n",
              "  </tbody>\n",
              "</table>\n",
              "</div>\n",
              "      <button class=\"colab-df-convert\" onclick=\"convertToInteractive('df-5808b65b-1888-4e12-b2ea-4dda85a2ed08')\"\n",
              "              title=\"Convert this dataframe to an interactive table.\"\n",
              "              style=\"display:none;\">\n",
              "        \n",
              "  <svg xmlns=\"http://www.w3.org/2000/svg\" height=\"24px\"viewBox=\"0 0 24 24\"\n",
              "       width=\"24px\">\n",
              "    <path d=\"M0 0h24v24H0V0z\" fill=\"none\"/>\n",
              "    <path d=\"M18.56 5.44l.94 2.06.94-2.06 2.06-.94-2.06-.94-.94-2.06-.94 2.06-2.06.94zm-11 1L8.5 8.5l.94-2.06 2.06-.94-2.06-.94L8.5 2.5l-.94 2.06-2.06.94zm10 10l.94 2.06.94-2.06 2.06-.94-2.06-.94-.94-2.06-.94 2.06-2.06.94z\"/><path d=\"M17.41 7.96l-1.37-1.37c-.4-.4-.92-.59-1.43-.59-.52 0-1.04.2-1.43.59L10.3 9.45l-7.72 7.72c-.78.78-.78 2.05 0 2.83L4 21.41c.39.39.9.59 1.41.59.51 0 1.02-.2 1.41-.59l7.78-7.78 2.81-2.81c.8-.78.8-2.07 0-2.86zM5.41 20L4 18.59l7.72-7.72 1.47 1.35L5.41 20z\"/>\n",
              "  </svg>\n",
              "      </button>\n",
              "      \n",
              "  <style>\n",
              "    .colab-df-container {\n",
              "      display:flex;\n",
              "      flex-wrap:wrap;\n",
              "      gap: 12px;\n",
              "    }\n",
              "\n",
              "    .colab-df-convert {\n",
              "      background-color: #E8F0FE;\n",
              "      border: none;\n",
              "      border-radius: 50%;\n",
              "      cursor: pointer;\n",
              "      display: none;\n",
              "      fill: #1967D2;\n",
              "      height: 32px;\n",
              "      padding: 0 0 0 0;\n",
              "      width: 32px;\n",
              "    }\n",
              "\n",
              "    .colab-df-convert:hover {\n",
              "      background-color: #E2EBFA;\n",
              "      box-shadow: 0px 1px 2px rgba(60, 64, 67, 0.3), 0px 1px 3px 1px rgba(60, 64, 67, 0.15);\n",
              "      fill: #174EA6;\n",
              "    }\n",
              "\n",
              "    [theme=dark] .colab-df-convert {\n",
              "      background-color: #3B4455;\n",
              "      fill: #D2E3FC;\n",
              "    }\n",
              "\n",
              "    [theme=dark] .colab-df-convert:hover {\n",
              "      background-color: #434B5C;\n",
              "      box-shadow: 0px 1px 3px 1px rgba(0, 0, 0, 0.15);\n",
              "      filter: drop-shadow(0px 1px 2px rgba(0, 0, 0, 0.3));\n",
              "      fill: #FFFFFF;\n",
              "    }\n",
              "  </style>\n",
              "\n",
              "      <script>\n",
              "        const buttonEl =\n",
              "          document.querySelector('#df-5808b65b-1888-4e12-b2ea-4dda85a2ed08 button.colab-df-convert');\n",
              "        buttonEl.style.display =\n",
              "          google.colab.kernel.accessAllowed ? 'block' : 'none';\n",
              "\n",
              "        async function convertToInteractive(key) {\n",
              "          const element = document.querySelector('#df-5808b65b-1888-4e12-b2ea-4dda85a2ed08');\n",
              "          const dataTable =\n",
              "            await google.colab.kernel.invokeFunction('convertToInteractive',\n",
              "                                                     [key], {});\n",
              "          if (!dataTable) return;\n",
              "\n",
              "          const docLinkHtml = 'Like what you see? Visit the ' +\n",
              "            '<a target=\"_blank\" href=https://colab.research.google.com/notebooks/data_table.ipynb>data table notebook</a>'\n",
              "            + ' to learn more about interactive tables.';\n",
              "          element.innerHTML = '';\n",
              "          dataTable['output_type'] = 'display_data';\n",
              "          await google.colab.output.renderOutput(dataTable, element);\n",
              "          const docLink = document.createElement('div');\n",
              "          docLink.innerHTML = docLinkHtml;\n",
              "          element.appendChild(docLink);\n",
              "        }\n",
              "      </script>\n",
              "    </div>\n",
              "  </div>\n",
              "  "
            ],
            "text/plain": [
              "   engineering mathematics  dsa 1  dsa 2  dbms  CA  OS   SE  DD  OOPS  CN\n",
              "0                        3      0      1     1   1    1   2   2     2   3\n",
              "1                        1      2      0     2   0    0   0   1     2   1\n",
              "2                        0      2      0     0   2    2   0   0     0   0\n",
              "3                        3      0      0     1   1    1   2   1     2   1\n",
              "4                        1      0      1     1   1    0   0   2     2   3"
            ]
          },
          "metadata": {},
          "execution_count": 24
        }
      ]
    },
    {
      "cell_type": "code",
      "source": [
        "X.shape"
      ],
      "metadata": {
        "colab": {
          "base_uri": "https://localhost:8080/"
        },
        "id": "6ylfhmkaN9Ia",
        "outputId": "3d82ccc0-2ad0-4609-dd17-4c257b341573"
      },
      "execution_count": null,
      "outputs": [
        {
          "output_type": "execute_result",
          "data": {
            "text/plain": [
              "(59, 10)"
            ]
          },
          "metadata": {},
          "execution_count": 25
        }
      ]
    },
    {
      "cell_type": "code",
      "source": [
        "Y.shape"
      ],
      "metadata": {
        "colab": {
          "base_uri": "https://localhost:8080/"
        },
        "id": "GczoZcIuOBn6",
        "outputId": "d4ce639a-0c92-46e6-884a-7f3833d568dc"
      },
      "execution_count": null,
      "outputs": [
        {
          "output_type": "execute_result",
          "data": {
            "text/plain": [
              "(59,)"
            ]
          },
          "metadata": {},
          "execution_count": 27
        }
      ]
    },
    {
      "cell_type": "code",
      "source": [
        "from sklearn.model_selection import train_test_split\n",
        "x_train,x_test,y_train,y_test = train_test_split(X,Y,test_size=0.1,random_state=0)"
      ],
      "metadata": {
        "id": "T8pOgNPKOFom"
      },
      "execution_count": null,
      "outputs": []
    },
    {
      "cell_type": "code",
      "source": [
        "#model creation"
      ],
      "metadata": {
        "id": "epQr3MyomP42"
      },
      "execution_count": null,
      "outputs": []
    },
    {
      "cell_type": "code",
      "source": [
        "class DecisionTreeClassifier:\n",
        "    def __init__(self):\n",
        "        # root represents the root node of the decision tree built after fitting the training data\n",
        "        self.__root = None\n",
        "\n",
        "    def __count_unique(self,Y):\n",
        "        # returns a dictionary with keys as unique values of Y(i.e no of classes) and the corresponding value as its frequency\n",
        "        d = {}\n",
        "        for i in Y:\n",
        "            if i not in d:\n",
        "                d[i]=1\n",
        "            else:\n",
        "                d[i]+=1\n",
        "        return d\n",
        "\n",
        "\n",
        "    def __entropy(self,Y):\n",
        "        # returns the entropy \n",
        "        freq_map = self.__count_unique(Y)\n",
        "        entropy_ = 0\n",
        "        total = len(Y)\n",
        "        for i in freq_map:\n",
        "            p = freq_map[i]/total\n",
        "            entropy_ += (-p)*math.log2(p)\n",
        "        return entropy_\n",
        "\n",
        "    def __gain_ratio(self,X,Y,selected_feature):\n",
        "        # returns the gain ratio\n",
        "        info_orig = self.__entropy(Y) # info_orig represents entropy before splitting\n",
        "        info_f = 0  # info_f represents entropy after splitting upon the selected feature\n",
        "        split_info = 0\n",
        "        values = set(X[:,selected_feature])\n",
        "        df = pd.DataFrame(X)\n",
        "        # Adding Y values as the last column in the dataframe \n",
        "        df[df.shape[1]] = Y\n",
        "        initial_size = df.shape[0] \n",
        "        for i in values:\n",
        "            df1 = df[df[selected_feature] == i]\n",
        "            current_size = df1.shape[0]\n",
        "            info_f += (current_size/initial_size)*self.__entropy(df1[df1.shape[1]-1])\n",
        "            split_info += (-current_size/initial_size)*math.log2(current_size/initial_size)\n",
        "\n",
        "        # to handle the case when split info = 0 which leads to division by 0 error\n",
        "        if split_info == 0 :\n",
        "            return math.inf\n",
        "\n",
        "        info_gain = info_orig - info_f\n",
        "        gain_ratio = info_gain / split_info\n",
        "        return gain_ratio\n",
        "\n",
        "    def __gini_index(self,Y):\n",
        "        # returns the gini index \n",
        "        freq_map = self.__count_unique(Y)\n",
        "        gini_index_ = 1\n",
        "        total = len(Y)\n",
        "        for i in freq_map:\n",
        "            p = freq_map[i]/total\n",
        "            gini_index_ -= p**2\n",
        "        return gini_index_\n",
        "\n",
        "    def __gini_gain(self,X,Y,selected_feature):\n",
        "        # returns the gini gain\n",
        "        gini_orig = self.__gini_index(Y) # gini_orig represents gini index before splitting\n",
        "        gini_split_f = 0 # gini_split_f represents gini index after splitting upon the selected feature\n",
        "        values = set(X[:,selected_feature])\n",
        "        df = pd.DataFrame(X)\n",
        "        # Adding Y values as the last column in the dataframe \n",
        "        df[df.shape[1]] = Y\n",
        "        initial_size = df.shape[0] \n",
        "        for i in values:\n",
        "            df1 = df[df[selected_feature] == i]\n",
        "            current_size = df1.shape[0]\n",
        "            gini_split_f += (current_size/initial_size)*self.__gini_index(df1[df1.shape[1]-1])\n",
        "\n",
        "        gini_gain_ = gini_orig - gini_split_f\n",
        "        return gini_gain_\n",
        "\n",
        "\n",
        "    def __decision_tree(self,X,Y,features,level,metric,classes):\n",
        "        # returns the root of the Decision Tree(which consists of TreeNodes) built after fitting the training data\n",
        "        # Here Nodes are printed as in PREORDER traversl\n",
        "        # classes represents the different classes present in the classification problem \n",
        "        # metric can take value gain_ratio or gini_index\n",
        "        # level represents depth of the tree\n",
        "        # We split a node on a particular feature only once (in a given root to leaf node path)\n",
        "        \n",
        "        \n",
        "        # If the node consists of only 1 class\n",
        "        if len(set(Y)) == 1:\n",
        "            print(\"Level\",level)\n",
        "            output = None\n",
        "            for i in classes:\n",
        "                if i in Y:\n",
        "                    output = i\n",
        "                    print(\"Count of\",i,\"=\",len(Y))\n",
        "                else :\n",
        "                    print(\"Count of\",i,\"=\",0)\n",
        "            if metric == \"gain_ratio\":\n",
        "                print(\"Current Entropy is =  0.0\")\n",
        "            elif metric == \"gini_index\":\n",
        "                print(\"Current Gini Index is =  0.0\")\n",
        "\n",
        "            print(\"Reached leaf Node\")\n",
        "            print()\n",
        "            return TreeNode(None,output)\n",
        "\n",
        "        # If we have run out of features to split upon\n",
        "        # In this case we will output the class with maximum count\n",
        "        if len(features) == 0:\n",
        "            print(\"Level\",level)\n",
        "            freq_map = self.__count_unique(Y)\n",
        "            output = None\n",
        "            max_count = -math.inf\n",
        "            for i in classes:\n",
        "                if i not in freq_map:\n",
        "                    print(\"Count of\",i,\"=\",0)\n",
        "                else :\n",
        "                    if freq_map[i] > max_count :\n",
        "                        output = i\n",
        "                        max_count = freq_map[i]\n",
        "                    print(\"Count of\",i,\"=\",freq_map[i])\n",
        "\n",
        "            if metric == \"gain_ratio\":\n",
        "                print(\"Current Entropy  is =\",self.__entropy(Y))\n",
        "            elif metric == \"gini_index\":\n",
        "                print(\"Current Gini Index is =\",self.__gini_index(Y))            \n",
        "\n",
        "            print(\"Reached leaf Node\")\n",
        "            print()\n",
        "            return TreeNode(None,output)\n",
        "\n",
        "        \n",
        "        # Finding the best feature to split upon\n",
        "        max_gain = -math.inf\n",
        "        final_feature = None\n",
        "        for f in features :\n",
        "            if metric == \"gain_ratio\":\n",
        "                current_gain = self.__gain_ratio(X,Y,f)\n",
        "            elif metric ==\"gini_index\":\n",
        "                current_gain = self.__gini_gain(X,Y,f)\n",
        "\n",
        "            if current_gain > max_gain:\n",
        "                max_gain = current_gain\n",
        "                final_feature = f\n",
        "\n",
        "        print(\"Level\",level)\n",
        "        freq_map = self.__count_unique(Y)\n",
        "        output = None\n",
        "        max_count = -math.inf\n",
        "\n",
        "        for i in classes:\n",
        "            if i not in freq_map:\n",
        "                print(\"Count of\",i,\"=\",0)\n",
        "            else :\n",
        "                if freq_map[i] > max_count :\n",
        "                    output = i\n",
        "                    max_count = freq_map[i]\n",
        "                print(\"Count of\",i,\"=\",freq_map[i])\n",
        "\n",
        "        if metric == \"gain_ratio\" :        \n",
        "            print(\"Current Entropy is =\",self.__entropy(Y))\n",
        "            print(\"Splitting on feature  X[\",final_feature,\"] with gain ratio \",max_gain,sep=\"\")\n",
        "            print()\n",
        "        elif metric == \"gini_index\":\n",
        "            print(\"Current Gini Index is =\",self.__gini_index(Y))\n",
        "            print(\"Splitting on feature  X[\",final_feature,\"] with gini gain \",max_gain,sep=\"\")\n",
        "            print()\n",
        "\n",
        "            \n",
        "        unique_values = set(X[:,final_feature]) # unique_values represents the unique values of the feature selected\n",
        "        df = pd.DataFrame(X)\n",
        "        # Adding Y values as the last column in the dataframe\n",
        "        df[df.shape[1]] = Y\n",
        "\n",
        "        current_node = TreeNode(final_feature,output)\n",
        "\n",
        "        # Now removing the selected feature from the list as we do not want to split on one feature more than once(in a given root to leaf node path)\n",
        "        index  = features.index(final_feature)\n",
        "        features.remove(final_feature)\n",
        "        for i in unique_values:\n",
        "            # Creating a new dataframe with value of selected feature = i\n",
        "            df1 = df[df[final_feature] == i]\n",
        "            # Segregating the X and Y values and recursively calling on the splits\n",
        "            node = self.__decision_tree(df1.iloc[:,0:df1.shape[1]-1].values,df1.iloc[:,df1.shape[1]-1].values,features,level+1,metric,classes)\n",
        "            current_node.add_child(i,node)\n",
        "\n",
        "        # Add the removed feature     \n",
        "        features.insert(index,final_feature)\n",
        "\n",
        "        return current_node\n",
        "    \n",
        "    def fit(self,X,Y,metric=\"gain_ratio\"):\n",
        "        # Fits to the given training data\n",
        "        # metric can take value gain_ratio or gini_index\n",
        "        features = [i for i in range(len(X[0]))]\n",
        "        classes = set(Y)\n",
        "        level = 0\n",
        "        if metric != \"gain_ratio\" :\n",
        "            if metric != \"gini_index\":\n",
        "                metric=\"gain_ratio\"  # if user entered a value which was neither gini_index nor gain_ratio\n",
        "        self.__root = self.__decision_tree(X,Y,features,level,metric,classes)\n",
        "        \n",
        "    def __predict_for(self,data,node):\n",
        "        # predicts the class for a given testing point and returns the answer\n",
        "        \n",
        "        # We have reached a leaf node\n",
        "        if len(node.children) == 0 :\n",
        "            return node.output\n",
        "\n",
        "        val = data[node.data] # represents the value of feature on which the split was made       \n",
        "        if val not in node.children :\n",
        "            return node.output\n",
        "        \n",
        "        # Recursively call on the splits\n",
        "        return self.__predict_for(data,node.children[val])\n",
        "\n",
        "    def predict(self,X):\n",
        "        # This function returns Y predicted\n",
        "        # X should be a 2-D np array\n",
        "        Y = np.array([0 for i in range(len(X))])\n",
        "        for i in range(len(X)):\n",
        "            Y[i] = self.__predict_for(X[i],self.__root)\n",
        "        return Y\n",
        "    \n",
        "    def score(self,X,Y):\n",
        "        # returns the mean accuracy\n",
        "        Y_pred = self.predict(X)\n",
        "        count = 0\n",
        "        for i in range(len(Y_pred)):\n",
        "            if Y_pred[i] == Y[i]:\n",
        "                count+=1\n",
        "        return count/len(Y_pred)\n",
        "    \n",
        "    def export_tree_pdf(self,filename=None):\n",
        "        # returns the tree as dot data\n",
        "        # if filename is specified the function \n",
        "        # will save the pdf file in current directory which consists of the visual reresentation of the tree\n",
        "        import pydotplus\n",
        "        from collections import deque\n",
        "        \n",
        "        dot_data = '''digraph Tree {\n",
        "node [shape=box] ;'''\n",
        "        \n",
        "        queue = deque()\n",
        "        \n",
        "        r = self.__root\n",
        "        queue.append(r)\n",
        "        count = 0\n",
        "        if r.index == -1:\n",
        "            r.index = count\n",
        "        \n",
        "        dot_data = dot_data + \"\\n{} [label=\\\"Feature to split upon : X[{}]\\\\nOutput at this node : {}\\\" ];\".format(count,r.data,r.output) \n",
        "        \n",
        "        # Doing LEVEL ORDER traversal in the tree (using a queue)\n",
        "        while len(queue) != 0 :\n",
        "            node = queue.popleft()\n",
        "            for i in node.children:\n",
        "                count+=1\n",
        "                if(node.children[i].index==-1):\n",
        "                    node.children[i].index = count\n",
        "                \n",
        "                # Creating child node\n",
        "                dot_data = dot_data + \"\\n{} [label=\\\"Feature to split upon : X[{}]\\\\nOutput at this node : {}\\\" ];\".format(node.children[i].index,node.children[i].data,node.children[i].output) \n",
        "                # Connecting parent node with child\n",
        "                dot_data = dot_data + \"\\n{} -> {} [ headlabel=\\\"Feature value = {}\\\"]; \".format(node.index,node.children[i].index,i)\n",
        "                # Adding child node to queue\n",
        "                queue.append(node.children[i])\n",
        "        \n",
        "        dot_data = dot_data + \"\\n}\"\n",
        "\n",
        "        if filename != None:    \n",
        "            graph = pydotplus.graph_from_dot_data(dot_data)\n",
        "            graph.write_pdf(filename)    \n",
        "        \n",
        "        return dot_data"
      ],
      "metadata": {
        "id": "MH3uadTjOKq1"
      },
      "execution_count": null,
      "outputs": []
    },
    {
      "cell_type": "code",
      "source": [
        "class TreeNode:\n",
        "    def __init__(self, data,output):\n",
        "        # data represents the feature upon which the node was split when fitting the training data\n",
        "        # data = None for leaf node\n",
        "        self.data = data\n",
        "        # children of a node are stored as a dicticionary with key being the value of feature upon which the node was split\n",
        "        # and the corresponding value stores the child TreeNode\n",
        "        self.children = {}\n",
        "        # output represents the class with current majority at this instance of the decision tree\n",
        "        self.output = output\n",
        "        # index will be used to assign a unique index to each node\n",
        "        self.index = -1\n",
        "        \n",
        "    def add_child(self,feature_value,obj):\n",
        "        self.children[feature_value] = obj"
      ],
      "metadata": {
        "id": "HSrxCQ7XOTby"
      },
      "execution_count": null,
      "outputs": []
    },
    {
      "cell_type": "code",
      "source": [
        "model1 = DecisionTreeClassifier()\n",
        "model1.fit(x_train,y_train)"
      ],
      "metadata": {
        "colab": {
          "base_uri": "https://localhost:8080/"
        },
        "id": "OHNDE-zvRmyH",
        "outputId": "8c6a47d4-035d-4149-95b2-4e6c647258b6"
      },
      "execution_count": null,
      "outputs": [
        {
          "output_type": "execute_result",
          "data": {
            "text/plain": [
              "DecisionTreeClassifier()"
            ]
          },
          "metadata": {},
          "execution_count": 52
        }
      ]
    },
    {
      "cell_type": "code",
      "source": [
        "model1.score(x_train,y_train)"
      ],
      "metadata": {
        "colab": {
          "base_uri": "https://localhost:8080/"
        },
        "id": "ZdupsxBGRF06",
        "outputId": "30700e9b-c515-44ba-d0fb-10f645d067b8"
      },
      "execution_count": null,
      "outputs": [
        {
          "output_type": "execute_result",
          "data": {
            "text/plain": [
              "0.9811320754716981"
            ]
          },
          "metadata": {},
          "execution_count": 54
        }
      ]
    },
    {
      "cell_type": "code",
      "source": [
        "x_train.shape"
      ],
      "metadata": {
        "colab": {
          "base_uri": "https://localhost:8080/"
        },
        "id": "Wq2u_McHOrYk",
        "outputId": "bd522178-dc0b-48e6-c1b9-96ea84b42030"
      },
      "execution_count": null,
      "outputs": [
        {
          "output_type": "execute_result",
          "data": {
            "text/plain": [
              "(53, 10)"
            ]
          },
          "metadata": {},
          "execution_count": 33
        }
      ]
    },
    {
      "cell_type": "code",
      "source": [
        "y_train.shape"
      ],
      "metadata": {
        "colab": {
          "base_uri": "https://localhost:8080/"
        },
        "id": "NG90H8wTOuR1",
        "outputId": "2a8d789d-b06f-4f9b-ff7c-6a014202e9c7"
      },
      "execution_count": null,
      "outputs": [
        {
          "output_type": "execute_result",
          "data": {
            "text/plain": [
              "(53,)"
            ]
          },
          "metadata": {},
          "execution_count": 34
        }
      ]
    },
    {
      "cell_type": "code",
      "source": [
        "y_pred = model1.predict(x_train)"
      ],
      "metadata": {
        "id": "E2CpTAwUSx97"
      },
      "execution_count": null,
      "outputs": []
    },
    {
      "cell_type": "code",
      "source": [
        "#model evaluation"
      ],
      "metadata": {
        "id": "YdN4QpgGmZlY"
      },
      "execution_count": null,
      "outputs": []
    },
    {
      "cell_type": "code",
      "source": [
        "from sklearn.metrics import confusion_matrix,accuracy_score\n",
        "accuracy = model1.score(x_train,y_train)\n",
        "matrix = confusion_matrix(y_pred,y_train)"
      ],
      "metadata": {
        "id": "RD4bgttPS3Xp"
      },
      "execution_count": null,
      "outputs": []
    },
    {
      "cell_type": "code",
      "source": [
        "print(\"The accuracy is \",accuracy)"
      ],
      "metadata": {
        "colab": {
          "base_uri": "https://localhost:8080/"
        },
        "id": "cQAzIQa2S8By",
        "outputId": "ada05b03-757a-48a2-e9a7-d39bf51cc7ad"
      },
      "execution_count": null,
      "outputs": [
        {
          "output_type": "stream",
          "name": "stdout",
          "text": [
            "The accuracy is  0.9811320754716981\n"
          ]
        }
      ]
    },
    {
      "cell_type": "code",
      "source": [
        "sns.heatmap(matrix, annot=True,annot_kws={\"size\": 16})"
      ],
      "metadata": {
        "colab": {
          "base_uri": "https://localhost:8080/",
          "height": 282
        },
        "id": "34nEcVtWTSmQ",
        "outputId": "dce659c4-21a5-45e6-903d-9fd8c8bec99e"
      },
      "execution_count": null,
      "outputs": [
        {
          "output_type": "execute_result",
          "data": {
            "text/plain": [
              "<matplotlib.axes._subplots.AxesSubplot at 0x7f3aabb9e7d0>"
            ]
          },
          "metadata": {},
          "execution_count": 64
        },
        {
          "output_type": "display_data",
          "data": {
            "image/png": "[encoded data removed]",
            "text/plain": [
              "<Figure size 432x288 with 2 Axes>"
            ]
          },
          "metadata": {
            "needs_background": "light"
          }
        }
      ]
    },
    {
      "cell_type": "code",
      "source": [
        "fig = plt.figure(figsize=(15,15))\n",
        "_ = tree.plot_tree(model1, \n",
        "                   filled=True)"
      ],
      "metadata": {
        "colab": {
          "base_uri": "https://localhost:8080/",
          "height": 846
        },
        "id": "rSrmuFfFTZjI",
        "outputId": "30b66cb9-0176-4edf-8e52-36d4d3cb0117"
      },
      "execution_count": null,
      "outputs": [
        {
          "output_type": "display_data",
          "data": {
            "image/png": "[encoded data removed]",
            "text/plain": [
              "<Figure size 1080x1080 with 1 Axes>"
            ]
          },
          "metadata": {
            "needs_background": "light"
          }
        }
      ]
    }
  ]
}